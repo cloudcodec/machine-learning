{
 "cells": [
  {
   "cell_type": "markdown",
   "metadata": {
    "collapsed": true,
    "pycharm": {
     "name": "#%% md\n"
    }
   },
   "source": [
    "# <center>k近邻法</center>\n",
    "\n",
    "## 模型\n",
    "对于新的输入实例,在训练集中找到与该实例最邻近的k个实例，这k个实例的多数属于某个分类,就把该输入实例分为这个类\n",
    "\n",
    "## brute\n",
    "遍历训练集中所有实例,找到最近的k个实例"
   ]
  },
  {
   "cell_type": "code",
   "execution_count": 47,
   "outputs": [
    {
     "name": "stdout",
     "output_type": "stream",
     "text": [
      "score:1.0\n"
     ]
    },
    {
     "data": {
      "text/plain": "<matplotlib.legend.Legend at 0x134efa9a0>"
     },
     "execution_count": 47,
     "metadata": {},
     "output_type": "execute_result"
    },
    {
     "data": {
      "text/plain": "<Figure size 432x288 with 1 Axes>",
      "image/png": "[encoded data removed]"
     },
     "metadata": {
      "needs_background": "light"
     },
     "output_type": "display_data"
    }
   ],
   "source": [
    "import numpy as np\n",
    "import pandas as pd\n",
    "import matplotlib.pyplot as plt\n",
    "from sklearn import datasets\n",
    "from sklearn.model_selection import train_test_split\n",
    "from collections import Counter\n",
    "from queue import PriorityQueue\n",
    "\n",
    "\n",
    "class KNN:\n",
    "    def __init__(self, X_train, y_train):\n",
    "        self.X_train = X_train\n",
    "        self.y_train = y_train\n",
    "\n",
    "    def predict(self, x, k):\n",
    "        \"\"\"\n",
    "        :param x: 预测的实例\n",
    "        :param k: 预测时选取近邻点的个数\n",
    "        \"\"\"\n",
    "        pq = PriorityQueue()\n",
    "        for i in range(len(self.X_train)):\n",
    "            dist = self.euclidean_distance(x, self.X_train[i])\n",
    "            pq.put((dist, self.y_train[i]))\n",
    "\n",
    "        labels = []\n",
    "        for i in range(k):\n",
    "            if not pq.empty():\n",
    "                labels.append(pq.get()[1]) #least\n",
    "        counter = Counter(labels)\n",
    "        max_count_item = sorted(counter.items(), key=lambda a: a[1])[-1]\n",
    "        return max_count_item[0]\n",
    "\n",
    "    def score(self, X_test, y_test,k):\n",
    "        \"\"\"\n",
    "        :param k: 预测时选取近邻点的个数\n",
    "        \"\"\"\n",
    "        right_count = 0\n",
    "        for xi, yi in zip(X_test, y_test):\n",
    "            if self.predict(xi,k) == yi:\n",
    "                right_count += 1\n",
    "        return 1.0 * right_count / len(X_test)\n",
    "\n",
    "    def euclidean_distance(self, a, b):\n",
    "        return np.linalg.norm(a - b, ord=2)\n",
    "\n",
    "\n",
    "# 0-49,0\n",
    "# 50-99,1\n",
    "def create_data():\n",
    "    iris = datasets.load_iris()\n",
    "    df = pd.DataFrame(iris.data, columns=iris.feature_names)\n",
    "    df['label'] = [f'{v}' for v in iris.target]\n",
    "    feature_names = np.array(iris.feature_names[:2])\n",
    "    data = np.array(df.iloc[:100, [0, 1, -1]])\n",
    "    X, y = data[:, :-1], data[:, -1]\n",
    "    return X, y, feature_names\n",
    "\n",
    "k=3\n",
    "\n",
    "X, y, feature_names = create_data()\n",
    "X_train, X_test, y_train, y_test = train_test_split(X, y, test_size=0.2)\n",
    "model = KNN(X_train, y_train)\n",
    "print(f'score:{model.score(X_test, y_test,k)}')\n",
    "\n",
    "plt.scatter(X[:50, 0], X[:50, 1], label=y[0])\n",
    "plt.scatter(X[50:, 0], X[50:, 1], label=y[50])\n",
    "test_point = [6.0, 3.0]\n",
    "predict_label = model.predict(test_point,k)\n",
    "plt.scatter(test_point[0], test_point[1], label='test_point')\n",
    "plt.text(test_point[0], test_point[1], predict_label, fontsize=30)\n",
    "\n",
    "plt.xlabel(feature_names[0])\n",
    "plt.ylabel(feature_names[1])\n",
    "plt.legend()"
   ],
   "metadata": {
    "collapsed": false,
    "pycharm": {
     "name": "#%%\n"
    }
   }
  }
 ],
 "metadata": {
  "kernelspec": {
   "display_name": "Python 3",
   "language": "python",
   "name": "python3"
  },
  "language_info": {
   "codemirror_mode": {
    "name": "ipython",
    "version": 2
   },
   "file_extension": ".py",
   "mimetype": "text/x-python",
   "name": "python",
   "nbconvert_exporter": "python",
   "pygments_lexer": "ipython2",
   "version": "2.7.6"
  }
 },
 "nbformat": 4,
 "nbformat_minor": 0
}