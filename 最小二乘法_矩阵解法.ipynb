{
 "cells": [
  {
   "cell_type": "markdown",
   "source": [
    "最小二乘法（least square method）就是基于均方误差最小化来进行模型求解的一种方法，寻找可使损失函数值最小的参数 $W$ 的过程称为最小二乘参数估计（parameter estimation）。\n",
    "<br />模型函数: $$ Y = XW $$\n",
    "<br />损失函数: $$ L(W) = (XW - Y)^T (XW - Y) = W^T X^T XW - 2 W^T X^T Y + Y^T Y $$\n",
    "<br />对损失函数求关于$W$的偏导: $$ \\frac{\\partial L}{\\partial W} = 2 X^T XW - 2 X^T Y $$\n",
    "<br />令其 = 0 :  $$ 2 X^T XW - 2 X^T Y = 0 $$\n",
    "<br />解得: $$ W = (X^T X)^{-1} X^T Y $$"
   ],
   "metadata": {
    "collapsed": false,
    "pycharm": {
     "name": "#%% md\n"
    }
   }
  },
  {
   "cell_type": "code",
   "execution_count": 2,
   "outputs": [
    {
     "name": "stdout",
     "output_type": "stream",
     "text": [
      "model.W:\n",
      "[[1.65267636]\n",
      " [3.09892172]]\n"
     ]
    },
    {
     "data": {
      "text/plain": "[<matplotlib.lines.Line2D at 0x25247631c10>]"
     },
     "execution_count": 2,
     "metadata": {},
     "output_type": "execute_result"
    },
    {
     "data": {
      "text/plain": "<Figure size 432x288 with 1 Axes>",
      "image/png": "[encoded data removed]"
     },
     "metadata": {
      "needs_background": "light"
     },
     "output_type": "display_data"
    }
   ],
   "source": [
    "import matplotlib.pyplot as plt\n",
    "import numpy as np\n",
    "\n",
    "\n",
    "class LinearRegression:\n",
    "\n",
    "    def __init__(self):\n",
    "        self.W = None\n",
    "\n",
    "    def fit(self, X, y):\n",
    "        X = np.hstack((np.ones((X.shape[0], 1)), X))\n",
    "        self.W = np.linalg.pinv(X.T @ X) @ X.T @ y\n",
    "\n",
    "    def predict(self, X):\n",
    "        X = np.hstack((np.ones((X.shape[0], 1)), X))\n",
    "        y_predict = X @ self.W\n",
    "        return y_predict\n",
    "\n",
    "\n",
    "def create_data(N, W):\n",
    "    X = np.arange(N).reshape((-1, 1))\n",
    "    X_temp = np.hstack((np.ones((N, 1)), X))\n",
    "    y = X_temp @ W + np.random.randn(N, 1) * 3\n",
    "    return X, y\n",
    "\n",
    "\n",
    "N = 20\n",
    "W = np.array([[2], [3]])\n",
    "X, y = create_data(N, W)\n",
    "\n",
    "model = LinearRegression()\n",
    "model.fit(X, y)\n",
    "print('model.W:')\n",
    "print(model.W)\n",
    "y_predict = model.predict(X)\n",
    "\n",
    "plt.scatter(X, y)\n",
    "plt.plot(X, y_predict, color='g')"
   ],
   "metadata": {
    "collapsed": false,
    "pycharm": {
     "name": "#%%\n"
    }
   }
  }
 ],
 "metadata": {
  "kernelspec": {
   "name": "pycharm-5bbfed35",
   "language": "python",
   "display_name": "PyCharm (machine-learning)"
  },
  "language_info": {
   "codemirror_mode": {
    "name": "ipython",
    "version": 2
   },
   "file_extension": ".py",
   "mimetype": "text/x-python",
   "name": "python",
   "nbconvert_exporter": "python",
   "pygments_lexer": "ipython2",
   "version": "2.7.6"
  }
 },
 "nbformat": 4,
 "nbformat_minor": 0
}