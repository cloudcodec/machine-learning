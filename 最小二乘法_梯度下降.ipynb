{
 "cells": [
  {
   "cell_type": "markdown",
   "source": [
    "最小二乘法（least square method）就是基于均方误差最小化来进行模型求解的一种方法，寻找可使损失函数值最小的参数 $W$ 的过程称为最小二乘参数估计（parameter estimation）。\n",
    "<br />模型函数: $$ Y = XW $$\n",
    "<br />损失函数: $$ L(W) = (XW - Y)^T (XW - Y) = W^T X^T XW - 2 W^T X^T Y + Y^T Y $$\n",
    "<br />对损失函数求关于$W$的偏导: $$ \\frac{\\partial L}{\\partial W} = 2 X^T XW - 2 X^T Y $$\n",
    "<br />梯度下降: $$ W^{(t+1)} = W^{(t)} - \\alpha (2 X^T XW - 2 X^T Y) $$"
   ],
   "metadata": {
    "collapsed": false,
    "pycharm": {
     "name": "#%% md\n"
    }
   }
  },
  {
   "cell_type": "code",
   "execution_count": 1,
   "outputs": [
    {
     "name": "stdout",
     "output_type": "stream",
     "text": [
      "model.W:\n",
      "[[1.21626252]\n",
      " [3.05461608]]\n"
     ]
    },
    {
     "data": {
      "text/plain": "<Figure size 432x288 with 1 Axes>",
      "image/png": "[encoded data removed]"
     },
     "metadata": {
      "needs_background": "light"
     },
     "output_type": "display_data"
    },
    {
     "data": {
      "text/plain": "<Figure size 432x288 with 1 Axes>",
      "image/png": "[encoded data removed]"
     },
     "metadata": {
      "needs_background": "light"
     },
     "output_type": "display_data"
    }
   ],
   "source": [
    "import matplotlib.pyplot as plt\n",
    "import numpy as np\n",
    "\n",
    "\n",
    "class LinearRegression:\n",
    "\n",
    "    def __init__(self):\n",
    "        self.W = None\n",
    "        self.learning_rate = 0.0001\n",
    "        self.epochs = 1000\n",
    "\n",
    "    def fit(self, X, Y):\n",
    "        X = np.hstack((np.ones((X.shape[0], 1)), X))\n",
    "        self.W = np.random.randn(X.shape[1], 1)\n",
    "        loss_history = []\n",
    "        for i in range(self.epochs):\n",
    "            self.W = self.W - self.learning_rate * (2 * X.T @ X @ self.W - 2 * X.T @ Y)\n",
    "            loss_history.append(self.loss(self.W, X, Y))\n",
    "            if i > 0 and loss_history[i - 1] > loss_history[i] and loss_history[i - 1] - loss_history[i] < 10:\n",
    "                break\n",
    "        return loss_history\n",
    "\n",
    "    def loss(self, W, X, y):\n",
    "        return (W.T @ X.T @ X @ W - 2 * W.T @ X.T @ y + y.T @ y)[0][0]\n",
    "\n",
    "    def predict(self, X):\n",
    "        X = np.hstack((np.ones((X.shape[0], 1)), X))\n",
    "        y_predict = X @ self.W\n",
    "        return y_predict\n",
    "\n",
    "\n",
    "def create_data(N, W):\n",
    "    X = np.arange(N).reshape((-1, 1))\n",
    "    y = W[0] + X @ W[1:, :] + np.random.randn(N, 1) * 3\n",
    "    return X, y\n",
    "\n",
    "\n",
    "N = 20\n",
    "W = np.array([[2], [3]])\n",
    "\n",
    "X, y = create_data(N, W)\n",
    "\n",
    "model = LinearRegression()\n",
    "loss_history = model.fit(X, y)\n",
    "print('model.W:')\n",
    "print(model.W)\n",
    "y_predict = model.predict(X)\n",
    "\n",
    "plt.scatter(X, y)\n",
    "plt.plot(X, y_predict, color='g')\n",
    "plt.show()\n",
    "\n",
    "plt.xlabel('epoch')\n",
    "plt.ylabel('loss')\n",
    "plt.plot(np.arange(1, len(loss_history) + 1), loss_history)\n",
    "plt.show()"
   ],
   "metadata": {
    "collapsed": false,
    "pycharm": {
     "name": "#%%\n"
    }
   }
  }
 ],
 "metadata": {
  "kernelspec": {
   "name": "pycharm-5bbfed35",
   "language": "python",
   "display_name": "PyCharm (machine-learning)"
  },
  "language_info": {
   "codemirror_mode": {
    "name": "ipython",
    "version": 2
   },
   "file_extension": ".py",
   "mimetype": "text/x-python",
   "name": "python",
   "nbconvert_exporter": "python",
   "pygments_lexer": "ipython2",
   "version": "2.7.6"
  }
 },
 "nbformat": 4,
 "nbformat_minor": 0
}