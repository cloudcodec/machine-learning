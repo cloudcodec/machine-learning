{
 "cells": [
  {
   "cell_type": "markdown",
   "metadata": {
    "pycharm": {
     "name": "#%% md\n"
    }
   },
   "source": [
    "# <center>感知机</center>\n",
    "\n",
    "## 模型\n",
    "$$f(x) = sign(x \\cdot w)$$\n",
    "$$\n",
    "sign(x)=\n",
    "    \\begin{cases}\n",
    "        -1, \\quad & \\text{if x < 0} \\\\\n",
    "        +1, \\quad & \\text{if x $\\geq$ 0} \\\\\n",
    "    \\end{cases}\n",
    "$$\n",
    "\n",
    "## 策略\n",
    "最小化损失函数\n",
    "$$\\underset {w}{min}L(w)=-\\sum_{x_i \\in M} y_i (x_i \\cdot w) , \\text {M为误分类的数据集}$$\n",
    "\n",
    "## 算法\n",
    "随机梯度下降法(Stochastic Gradient Descent)\n",
    "\n",
    "对于一个点$\\frac{\\partial{L}}{\\partial{w}} = - y_{i} x_{i}$\n",
    "\n",
    "随机抽取一个误分类点使其梯度下降:$w = w - \\alpha \\frac{\\partial{L}}{\\partial{w}} = w - \\alpha (- y_{i}  x_{i})$\n",
    "\n",
    "当实例点被误分类，即位于分离超平面的错误侧，则调整$w$的值，使分离超平面向该误分类点的一侧移动，直至误分类点被正确分类\n",
    "\n",
    "***\n",
    "---\n",
    "___\n",
    "\n",
    "### 画出超平面(本例中为二维空间中的直线)\n",
    "$$x_{i}.T \\cdot w = 0$$\n",
    "$$x_{i}.T = [ 1 , x , y ]$$\n",
    "所以\n",
    "$$1*w[0] + x*w[1] + y*w[2] = 0$$\n",
    "$$y = \\frac{w[0] + x*w[1]}{-w[2]}$$"
   ]
  },
  {
   "cell_type": "code",
   "execution_count": 11,
   "metadata": {
    "pycharm": {
     "name": "#%%\n"
    }
   },
   "outputs": [
    {
     "name": "stdout",
     "output_type": "stream",
     "text": [
      "epoch:45\n",
      "count:164\n",
      "model.w:[-0.43415816 -0.08031007  0.16683476]\n"
     ]
    },
    {
     "data": {
      "text/plain": "[<matplotlib.lines.Line2D at 0x117ac1b50>]"
     },
     "execution_count": 11,
     "metadata": {},
     "output_type": "execute_result"
    },
    {
     "data": {
      "text/plain": "<Figure size 432x288 with 1 Axes>",
      "image/png": "[encoded data removed]"
     },
     "metadata": {
      "needs_background": "light"
     },
     "output_type": "display_data"
    }
   ],
   "source": [
    "import matplotlib.pyplot as plt\n",
    "import numpy as np\n",
    "\n",
    "\n",
    "class Perceptron:\n",
    "\n",
    "    def __init__(self):\n",
    "        self.learning_rate = 0.01\n",
    "        self.epochs = 1000\n",
    "        self.w = None\n",
    "\n",
    "    def fit(self, X, y):\n",
    "        X = np.hstack((np.ones((X.shape[0], 1)), X))\n",
    "        self.w = np.random.randn(X.shape[1])\n",
    "        all_right = False\n",
    "        count = 0\n",
    "        epoch = 1\n",
    "        while not all_right and epoch < self.epochs:\n",
    "            all_right = True\n",
    "            for r in range(len(X)):\n",
    "                xi = X[r]\n",
    "                yi = y[r]\n",
    "                if yi * np.dot(xi, self.w) <= 0:\n",
    "                    all_right = False\n",
    "                    self.w = self.w - self.learning_rate * (-yi * xi)\n",
    "                    count += 1\n",
    "            epoch += 1\n",
    "        print(f'epoch:{epoch}')\n",
    "        print(f'count:{count}')\n",
    "\n",
    "    def predict(self, x):\n",
    "        x = np.concatenate([1.0], x)\n",
    "        return 1 if np.dot(self.w, x) >= 0 else -1\n",
    "\n",
    "\n",
    "def create_data():\n",
    "    X = np.array([[1.5, 3.0], [1.6, 2.5], [1.9, 3.5], [4.1, 6.2], [4.9, 5.1], [5.5, 6.2]])\n",
    "    y = np.array([-1, -1, -1, 1, 1, 1])\n",
    "    return X, y\n",
    "\n",
    "\n",
    "X, y = create_data()\n",
    "\n",
    "model = Perceptron()\n",
    "model.fit(X, y)\n",
    "print(f'model.w:{model.w}')\n",
    "\n",
    "# data\n",
    "plt.scatter(X[:, 0], X[:, 1], c=y)\n",
    "# 分隔线\n",
    "plt.plot(X[:, 0], (model.w[0] + X[:, 0] * model.w[1]) / (-model.w[2]))\n"
   ]
  }
 ],
 "metadata": {
  "kernelspec": {
   "display_name": "Python 3 (ipykernel)",
   "language": "python",
   "name": "python3"
  },
  "language_info": {
   "codemirror_mode": {
    "name": "ipython",
    "version": 3
   },
   "file_extension": ".py",
   "mimetype": "text/x-python",
   "name": "python",
   "nbconvert_exporter": "python",
   "pygments_lexer": "ipython3",
   "version": "3.9.7"
  }
 },
 "nbformat": 4,
 "nbformat_minor": 1
}