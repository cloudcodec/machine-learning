{
 "cells": [
  {
   "cell_type": "markdown",
   "metadata": {
    "collapsed": true,
    "pycharm": {
     "name": "#%% md\n"
    }
   },
   "source": [
    "# <center>k近邻法</center>\n",
    "\n",
    "## 模型\n",
    "对于新的输入实例,在训练集中找到与该实例最邻近的k个实例，这k个实例的多数属于某个分类,就把该输入实例分为这个类\n",
    "\n",
    "## kd-tree\n",
    "一种树型数据结构,可以快速找到一个输入实例最近的k个实例\n"
   ]
  },
  {
   "cell_type": "code",
   "execution_count": 23,
   "outputs": [
    {
     "name": "stdout",
     "output_type": "stream",
     "text": [
      "nearest neighbor of [7.  1.1] is [7 2]\n"
     ]
    },
    {
     "data": {
      "text/plain": "<matplotlib.legend.Legend at 0x11b8f2310>"
     },
     "execution_count": 23,
     "metadata": {},
     "output_type": "execute_result"
    },
    {
     "data": {
      "text/plain": "<Figure size 640x480 with 1 Axes>",
      "image/png": "[encoded data removed]"
     },
     "metadata": {
      "needs_background": "light"
     },
     "output_type": "display_data"
    }
   ],
   "source": [
    "from collections import namedtuple\n",
    "import matplotlib.pyplot as plt\n",
    "import numpy as np\n",
    "\n",
    "Node = namedtuple(\"Node\", [\"value\", \"left\", \"right\"])\n",
    "NNRecord = namedtuple(\"NNRecord\", [\"value\", \"distance\"])\n",
    "\n",
    "\n",
    "class KdTree:\n",
    "    def __init__(self, X_train):\n",
    "        self.X_train = X_train\n",
    "        self.dims = len(X_train[0])\n",
    "        self.root = self._build(X_train, 0)\n",
    "\n",
    "    def _build(self, X, depth):\n",
    "        if len(X) == 0:\n",
    "            return None\n",
    "        axis = depth % self.dims\n",
    "        X = X[X[:, axis].argsort()]  # X now is sorted with the axis column\n",
    "        middle = len(X) // 2\n",
    "        return Node(\n",
    "            value=X[middle],\n",
    "            left=self._build(X[:middle], depth + 1),\n",
    "            right=self._build(X[middle + 1:], depth + 1),\n",
    "        )\n",
    "\n",
    "    def find_nearest_neighbor(self, point):\n",
    "        best = None\n",
    "\n",
    "        def _search(tree, depth):\n",
    "            nonlocal best\n",
    "\n",
    "            if tree is None:\n",
    "                return\n",
    "\n",
    "            dist = self.euclidean_distance(tree.value, point)\n",
    "            if best is None or dist < best.distance:\n",
    "                best = NNRecord(tree.value, dist)\n",
    "\n",
    "            axis = depth % self.dims\n",
    "            diff = point[axis] - tree.value[axis]\n",
    "            if diff <= 0:\n",
    "                close, away = tree.left, tree.right\n",
    "            else:\n",
    "                close, away = tree.right, tree.left\n",
    "\n",
    "            _search(close, depth + 1)\n",
    "            # x为圆心,x到best为半径的圆与超平面有交点,说明超平面另一侧可能存在比best更近的点\n",
    "            if diff ** 2 < best.distance:\n",
    "                _search(away, depth + 1)\n",
    "\n",
    "        _search(self.root, 0)\n",
    "        return best.value\n",
    "\n",
    "    def euclidean_distance(self, a, b):\n",
    "        return np.linalg.norm(a - b, ord=2)\n",
    "\n",
    "\n",
    "points = np.array([[2, 3], [5, 4], [9, 6], [4, 7], [8, 1], [7, 2]])\n",
    "model = KdTree(points)\n",
    "test_point = np.array([7, 1.1])\n",
    "nn = model.find_nearest_neighbor(test_point)\n",
    "print(f'nearest neighbor of {test_point} is {nn}')\n",
    "plt.figure(figsize=(8, 6), dpi=80)\n",
    "plt.scatter(points[:, 0], points[:, 1], label='data')\n",
    "plt.scatter(test_point[0], test_point[1], label='test_point')\n",
    "plt.text(nn[0], nn[1], \"NN\", fontsize=30)\n",
    "plt.legend(loc='upper left')"
   ],
   "metadata": {
    "collapsed": false,
    "pycharm": {
     "name": "#%%\n"
    }
   }
  }
 ],
 "metadata": {
  "kernelspec": {
   "display_name": "Python 3",
   "language": "python",
   "name": "python3"
  },
  "language_info": {
   "codemirror_mode": {
    "name": "ipython",
    "version": 2
   },
   "file_extension": ".py",
   "mimetype": "text/x-python",
   "name": "python",
   "nbconvert_exporter": "python",
   "pygments_lexer": "ipython2",
   "version": "2.7.6"
  }
 },
 "nbformat": 4,
 "nbformat_minor": 0
}