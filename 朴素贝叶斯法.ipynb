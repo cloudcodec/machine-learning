{
 "cells": [
  {
   "cell_type": "markdown",
   "metadata": {
    "collapsed": true,
    "pycharm": {
     "name": "#%% md\n"
    }
   },
   "source": [
    "$$y=\\arg \\max_{c_k} P(Y=c_k|X) $$\n",
    "\n",
    "$$P(Y|X)=\\frac{P(X,Y)}{P(X)}=\\frac{P(X|Y)P(Y)}{P(X)}\\\\\n",
    "对于每一个c_k,P(X)都一样，所以分母P(X)可以去掉$$\n",
    "\n",
    "朴素贝叶斯的基本假设是条件独立性，即:\n",
    "\n",
    "$$\\begin{align}\n",
    "P(X=x|Y=c_k)&=P(X^{(1)}=x^{(1)},X^{(2)}=x^{(2)},\\cdots,X^{(n)}=x^{(n)}|Y=c_K)\\\\\n",
    "&=\\prod_{j=1}^n P(X^{(j)}=x^{(j)}|Y=c_k)\\\\\n",
    "\\end{align}$$\n",
    "\n",
    "特征的概率假设为高斯分布，则\n",
    "\n",
    "$$P(X^{(j)}=x_{j}|Y=c_k) = \\frac{1}{\\sqrt{2\\pi} \\sigma_{Y=c_k}} \\exp (- \\frac{(x_{(j)} - \\mu_{Y=c_k})}{2\\sigma_{Y=c_k}^2})$$\n",
    "\n",
    "最终\n",
    "\n",
    "$$\\begin{align}\n",
    "y&=\\arg \\max_{c_k} P(Y=c_k|X)\\\\\n",
    "&=\\arg \\max_{c_k} P(Y=c_k) \\prod_{j=1}^n P(X^{(j)}=x^{(j)}|Y=c_k)\\\\\n",
    "&=\\arg \\max_{c_k} P(Y=c_k) \\prod_{j=1}^n \\frac{1}{\\sqrt{2\\pi} \\sigma_{Y=c_k}} \\exp (- \\frac{(x_{(j)} - \\mu_{Y=c_k})}{2\\sigma_{Y=c_k}^2})\\\\\n",
    "\\end{align}$$"
   ]
  },
  {
   "cell_type": "code",
   "execution_count": 1,
   "metadata": {
    "pycharm": {
     "name": "#%%\n"
    }
   },
   "outputs": [
    {
     "name": "stdout",
     "output_type": "stream",
     "text": [
      "{0: [GD(mean=4.955, std=0.35422450508117026), GD(mean=3.370000000000001, std=0.36891733491393436), GD(mean=1.4575, std=0.1744813743641424), GD(mean=0.24500000000000002, std=0.10712142642814276)], 1: [GD(mean=5.931428571428571, std=0.5181127448022588), GD(mean=2.7742857142857145, std=0.29889592755707467), GD(mean=4.282857142857144, std=0.47718562682564064), GD(mean=1.3485714285714285, std=0.18726822409341648)]}\n",
      "Score:1.0\n"
     ]
    }
   ],
   "source": [
    "import math\n",
    "from collections import defaultdict\n",
    "from collections import namedtuple\n",
    "\n",
    "import numpy as np\n",
    "from sklearn import datasets\n",
    "from sklearn.model_selection import train_test_split\n",
    "\n",
    "GD = namedtuple(\"GD\", [\"mean\", \"std\"])\n",
    "\n",
    "\n",
    "class GussianNaiveBayes:\n",
    "    def __init__(self):\n",
    "        self.model = {}\n",
    "\n",
    "    def fit(self, X, y):\n",
    "        # {\n",
    "        #     label1:[[feature1,feature2,...],...],\n",
    "        #     label2:[[feature1,feature2,...],...],\n",
    "        #     ...\n",
    "        # }\n",
    "        d = defaultdict(list)\n",
    "        for features, label in zip(X, y):\n",
    "            d[label].append(features)\n",
    "\n",
    "        # {\n",
    "        #     label1:[{mean:1.0,std:2},{mean:1.0,std:2},...],\n",
    "        #     label2:[{mean:1.0,std:2},{mean:1.0,std:2},...],\n",
    "        #     ...\n",
    "        # }\n",
    "        for label, features in d.items():\n",
    "            self.model[label] = []\n",
    "            for column in np.transpose(features):\n",
    "                self.model[label].append(GD(self.mean(column), self.std(column)))\n",
    "\n",
    "    def predict(self, x):\n",
    "        # 当前例子中先验(P(y=ck)一样，所以就没计算\n",
    "        label = sorted(self.calculate_probabilities(x).items(), key=lambda o: o[-1])[-1][0]\n",
    "        return label\n",
    "\n",
    "    def score(self, X_test, y_test):\n",
    "        right = 0\n",
    "        for x, yi in zip(X_test, y_test):\n",
    "            label = self.predict(x)\n",
    "            if label == yi:\n",
    "                right += 1\n",
    "        return right / float(len(X_test))\n",
    "\n",
    "    def calculate_probabilities(self, x):\n",
    "        probabilities = {}\n",
    "        for label, gds in self.model.items():\n",
    "            probabilities[label] = 1\n",
    "            for i, gd in enumerate(gds):\n",
    "                probabilities[label] *= self.gaussian_probability(x[i], gd.mean, gd.std)\n",
    "        return probabilities\n",
    "\n",
    "    def gaussian_probability(self, xi, mean, std):\n",
    "        return (1 / (math.sqrt(2 * np.pi) * std)) * math.exp(-((xi - mean) ** 2) /( 2 * (std ** 2)))\n",
    "\n",
    "    def mean(self, x):\n",
    "        return sum(x) / float(len(x))\n",
    "\n",
    "    def std(self, x):\n",
    "        return math.sqrt(sum([pow(xi - self.mean(x), 2) for xi in x]) / float(len(x)))\n",
    "\n",
    "\n",
    "def create_data():\n",
    "    iris = datasets.load_iris()\n",
    "    return iris.data[iris.target < 2], iris.target[iris.target < 2]\n",
    "\n",
    "\n",
    "X, y = create_data()\n",
    "X_train, X_test, y_train, y_test = train_test_split(X, y,random_state=1)\n",
    "\n",
    "model = GussianNaiveBayes()\n",
    "model.fit(X_train, y_train)\n",
    "print(model.model)\n",
    "print(f'Score:{model.score(X_test, y_test)}')"
   ]
  }
 ],
 "metadata": {
  "kernelspec": {
   "display_name": "Python 3 (ipykernel)",
   "language": "python",
   "name": "python3"
  },
  "language_info": {
   "codemirror_mode": {
    "name": "ipython",
    "version": 3
   },
   "file_extension": ".py",
   "mimetype": "text/x-python",
   "name": "python",
   "nbconvert_exporter": "python",
   "pygments_lexer": "ipython3",
   "version": "3.9.7"
  }
 },
 "nbformat": 4,
 "nbformat_minor": 1
}